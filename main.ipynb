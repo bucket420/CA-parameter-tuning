{
 "cells": [
  {
   "cell_type": "code",
   "execution_count": 1,
   "metadata": {},
   "outputs": [],
   "source": [
    "import uproot"
   ]
  },
  {
   "cell_type": "code",
   "execution_count": 11,
   "metadata": {},
   "outputs": [],
   "source": [
    "file = uproot.open(\"step3_inDQM.root\")"
   ]
  },
  {
   "cell_type": "code",
   "execution_count": 12,
   "metadata": {},
   "outputs": [
    {
     "data": {
      "text/plain": [
       "{'cms::edm::GUID;1': 'string',\n",
       " 'MetaData;1': 'TDirectory',\n",
       " 'MetaData/ProcessHistories;1': 'TTree',\n",
       " 'MetaData/ParameterSets;1': 'TTree',\n",
       " 'Indices;1': 'TTree',\n",
       " 'Ints;1': 'TTree',\n",
       " 'Floats;1': 'TTree',\n",
       " 'Strings;1': 'TTree',\n",
       " 'TH1Fs;1': 'TTree',\n",
       " 'TH1Ss;1': 'TTree',\n",
       " 'TH1Ds;1': 'TTree',\n",
       " 'TH2Fs;1': 'TTree',\n",
       " 'TH2Ss;1': 'TTree',\n",
       " 'TH2Ds;1': 'TTree',\n",
       " 'TH3Fs;1': 'TTree',\n",
       " 'TProfiles;1': 'TTree',\n",
       " 'TProfile2Ds;1': 'TTree',\n",
       " 'TH1Is;1': 'TTree',\n",
       " 'TH2Is;1': 'TTree'}"
      ]
     },
     "execution_count": 12,
     "metadata": {},
     "output_type": "execute_result"
    }
   ],
   "source": [
    "\n",
    "file.classnames()"
   ]
  },
  {
   "cell_type": "code",
   "execution_count": 13,
   "metadata": {},
   "outputs": [
    {
     "name": "stdout",
     "output_type": "stream",
     "text": [
      "name                 | typename                 | interpretation                \n",
      "---------------------+--------------------------+-------------------------------\n",
      "Index                | uint32_t                 | AsDtype('>u4')\n",
      "ProcessName          | std::string              | AsStrings()\n",
      "ParameterSetID       | std::string              | AsStrings()\n",
      "ReleaseVersion       | std::string              | AsStrings()\n",
      "PassID               | std::string              | AsStrings()\n"
     ]
    }
   ],
   "source": [
    "file[\"MetaData/ProcessHistories\"].show()\n"
   ]
  },
  {
   "cell_type": "code",
   "execution_count": null,
   "metadata": {},
   "outputs": [],
   "source": []
  }
 ],
 "metadata": {
  "kernelspec": {
   "display_name": "cms",
   "language": "python",
   "name": "python3"
  },
  "language_info": {
   "codemirror_mode": {
    "name": "ipython",
    "version": 3
   },
   "file_extension": ".py",
   "mimetype": "text/x-python",
   "name": "python",
   "nbconvert_exporter": "python",
   "pygments_lexer": "ipython3",
   "version": "3.10.11"
  },
  "orig_nbformat": 4
 },
 "nbformat": 4,
 "nbformat_minor": 2
}
